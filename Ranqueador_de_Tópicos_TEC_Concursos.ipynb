{
  "nbformat": 4,
  "nbformat_minor": 0,
  "metadata": {
    "colab": {
      "provenance": [],
      "collapsed_sections": [
        "UjPkBpAGf90_"
      ],
      "mount_file_id": "1scjNCU3a_QDq3la8J5ck6yEMMfAnmRGN",
      "authorship_tag": "ABX9TyPmlECKI6hv63Srgmn3FSoo",
      "include_colab_link": true
    },
    "kernelspec": {
      "name": "python3",
      "display_name": "Python 3"
    },
    "language_info": {
      "name": "python"
    }
  },
  "cells": [
    {
      "cell_type": "markdown",
      "metadata": {
        "id": "view-in-github",
        "colab_type": "text"
      },
      "source": [
        "<a href=\"https://colab.research.google.com/github/fppfurtado/ranqueador-cadernos-tec/blob/main/Ranqueador_de_T%C3%B3picos_TEC_Concursos.ipynb\" target=\"_parent\"><img src=\"https://colab.research.google.com/assets/colab-badge.svg\" alt=\"Open In Colab\"/></a>"
      ]
    },
    {
      "cell_type": "code",
      "execution_count": null,
      "metadata": {
        "colab": {
          "base_uri": "https://localhost:8080/"
        },
        "cellView": "form",
        "id": "uvsJFNZ4dHQS",
        "outputId": "817dbc10-e15b-45ee-cb99-c70fbe459587"
      },
      "outputs": [
        {
          "output_type": "stream",
          "name": "stdout",
          "text": [
            "b119290c-7edc-43a2-a347-e73070e51853.xlsx\n",
            "20\n",
            "80\n"
          ]
        }
      ],
      "source": [
        "# @title Entrada de Dados\n",
        "nome_arquivo = \"b119290c-7edc-43a2-a347-e73070e51853.xlsx\"  # @param {type: \"string\"}\n",
        "total_questoes = \"20\"  # @param {type: \"string\"}\n",
        "percentual_alvo = \"80\"  # @param {type: \"string\", placeholder: \"entre com o número percental (ex.: 70, 80, etc)\"}\n",
        "\n",
        "print(nome_arquivo)\n",
        "print(total_questoes)\n",
        "print(percentual_alvo)"
      ]
    },
    {
      "cell_type": "markdown",
      "source": [
        "# Ranqueador"
      ],
      "metadata": {
        "id": "jtmO8dyFtv7f"
      }
    },
    {
      "cell_type": "markdown",
      "source": [
        "## Imports"
      ],
      "metadata": {
        "id": "UjPkBpAGf90_"
      }
    },
    {
      "cell_type": "code",
      "source": [
        "!pip install anytree"
      ],
      "metadata": {
        "colab": {
          "base_uri": "https://localhost:8080/"
        },
        "id": "HlByM_JSgbN_",
        "outputId": "b9a85452-9a6a-4f09-be3c-e41198bba125"
      },
      "execution_count": null,
      "outputs": [
        {
          "output_type": "stream",
          "name": "stdout",
          "text": [
            "Collecting anytree\n",
            "  Downloading anytree-2.13.0-py3-none-any.whl.metadata (8.0 kB)\n",
            "Downloading anytree-2.13.0-py3-none-any.whl (45 kB)\n",
            "\u001b[2K   \u001b[90m━━━━━━━━━━━━━━━━━━━━━━━━━━━━━━━━━━━━━━━━\u001b[0m \u001b[32m45.1/45.1 kB\u001b[0m \u001b[31m1.8 MB/s\u001b[0m eta \u001b[36m0:00:00\u001b[0m\n",
            "\u001b[?25hInstalling collected packages: anytree\n",
            "Successfully installed anytree-2.13.0\n"
          ]
        }
      ]
    },
    {
      "cell_type": "code",
      "source": [
        "import pandas as pd\n",
        "from anytree import Node, RenderTree\n",
        "from copy import deepcopy\n",
        "from google.colab import drive"
      ],
      "metadata": {
        "id": "xTFykm-8dllN"
      },
      "execution_count": null,
      "outputs": []
    },
    {
      "cell_type": "markdown",
      "source": [
        "## Funções"
      ],
      "metadata": {
        "id": "lghidvlAgfSf"
      }
    },
    {
      "cell_type": "code",
      "source": [
        "def carregar_dados(planilha):\n",
        "    \"\"\"Carrega os dados da planilha e filtra linhas válidas\"\"\"\n",
        "    df = pd.read_excel(planilha)\n",
        "    df = df[df['Hierarquia'].notna() | df['Índice'].notna()]  # Remove linhas vazias\n",
        "    return df"
      ],
      "metadata": {
        "id": "JepCmcYzhQaA"
      },
      "execution_count": null,
      "outputs": []
    },
    {
      "cell_type": "code",
      "source": [
        "def corrige_hierarquia_ausente(df, inicio_sequencia):\n",
        "    df_corrigido = df.copy()\n",
        "\n",
        "    filtro_linhas_sem_hierarquia = df['Hierarquia'].isna() & df['Índice'].notna()\n",
        "    df_linhas_sem_hierarquia = df[filtro_linhas_sem_hierarquia]\n",
        "    df_linhas_nova_hierarquia = df_linhas_sem_hierarquia\n",
        "\n",
        "    sequencia_hierarquias_faltantes = list(range(inicio_sequencia, inicio_sequencia + len(df_linhas_sem_hierarquia)))\n",
        "    df_linhas_nova_hierarquia[\"Hierarquia\"] = [str(hierarquia).zfill(2) for hierarquia in sequencia_hierarquias_faltantes]\n",
        "    indices_linhas_hierarquia_inserida = df_linhas_nova_hierarquia.index.tolist()\n",
        "\n",
        "    df_corrigido[\"Hierarquia\"] = df_corrigido[\"Hierarquia\"].apply(lambda x: x if not pd.isna(x) else \"\")\n",
        "\n",
        "    for i in range(len(indices_linhas_hierarquia_inserida)):\n",
        "        for i_row, row in df_corrigido.iterrows():\n",
        "            if indices_linhas_hierarquia_inserida[i] != indices_linhas_hierarquia_inserida[-1]:\n",
        "                if indices_linhas_hierarquia_inserida[i] <= i_row < indices_linhas_hierarquia_inserida[i+1]:\n",
        "                    if row[\"Hierarquia\"]:\n",
        "                        df_corrigido.loc[i_row, \"Hierarquia\"] = df_linhas_nova_hierarquia.loc[indices_linhas_hierarquia_inserida[i], \"Hierarquia\"] + \".\" + str(row[\"Hierarquia\"])\n",
        "                    else:\n",
        "                        df_corrigido.loc[i_row, \"Hierarquia\"] = df_linhas_nova_hierarquia.loc[indices_linhas_hierarquia_inserida[i], \"Hierarquia\"]\n",
        "                else:\n",
        "                    break\n",
        "            else:\n",
        "                if i_row >= indices_linhas_hierarquia_inserida[i]:\n",
        "                    if row[\"Hierarquia\"]:\n",
        "                        df_corrigido.loc[i_row, \"Hierarquia\"] = df_linhas_nova_hierarquia.loc[indices_linhas_hierarquia_inserida[i], \"Hierarquia\"] + \".\" + str(row[\"Hierarquia\"])\n",
        "                    else:\n",
        "                        df_corrigido.loc[i_row, \"Hierarquia\"] = df_linhas_nova_hierarquia.loc[indices_linhas_hierarquia_inserida[i], \"Hierarquia\"]\n",
        "\n",
        "    return df_corrigido"
      ],
      "metadata": {
        "id": "MRPqipNbgehS"
      },
      "execution_count": null,
      "outputs": []
    },
    {
      "cell_type": "code",
      "source": [
        "def inserir_caminho(raiz, caminho):\n",
        "    \"\"\"\n",
        "    Insere uma sequência de nós em uma árvore a partir do nó raiz.\n",
        "    Cria apenas os nós que ainda não existem no caminho.\n",
        "\n",
        "    :param raiz: Nó raiz da árvore (objeto Node)\n",
        "    :param caminho: Lista com os nomes dos nós no caminho\n",
        "    :return: O último nó do caminho\n",
        "    \"\"\"\n",
        "    no_atual = raiz\n",
        "\n",
        "    for nome in caminho:\n",
        "        # Verifica se o nó já existe entre os filhos\n",
        "        filhos = {filho.name: filho for filho in no_atual.children}\n",
        "        if nome in filhos:\n",
        "            no_atual = filhos[nome]\n",
        "        else:\n",
        "            novo_no = Node(nome, parent=no_atual)\n",
        "            no_atual = novo_no  # Atualiza para o novo nó\n",
        "\n",
        "    return no_atual"
      ],
      "metadata": {
        "id": "9yBIYSUHNEYC"
      },
      "execution_count": null,
      "outputs": []
    },
    {
      "cell_type": "code",
      "source": [
        "def construir_arvore(df, valor_raiz=\"00\", topico_raiz=None, perc_raiz=100):\n",
        "    \"\"\"Constrói a árvore hierárquica a partir do DataFrame\"\"\"\n",
        "    raiz = Node(valor_raiz, topico=topico_raiz, porcentagem=perc_raiz)\n",
        "\n",
        "    df_arvore = df.copy()\n",
        "    df_arvore[\"Nível\"] = df[\"Hierarquia\"].apply(lambda x: len(str(x).split(\".\"))+1  if not pd.isna(x) else 1)\n",
        "    df_arvore[\"Caminho\"] = df[\"Hierarquia\"].apply(lambda x: str(x).split(\".\"))\n",
        "\n",
        "    for _, row in df_arvore.iterrows():\n",
        "      node = inserir_caminho(raiz, row[\"Caminho\"])\n",
        "      node.topico = row[\"Índice\"]\n",
        "      node.porcentagem = float(row[\"Porcentagem\"].rstrip(\"%\"))\n",
        "\n",
        "    return raiz"
      ],
      "metadata": {
        "id": "0RsKQJgSvpA_"
      },
      "execution_count": null,
      "outputs": []
    },
    {
      "cell_type": "code",
      "source": [
        "def ranquear_topicos(raiz):\n",
        "  raiz_copia = Node(raiz.name, topico=raiz.topico, porcentagem=raiz.porcentagem)\n",
        "\n",
        "  if raiz.children:\n",
        "    ordenados = sorted(raiz.children, key=lambda x: x.porcentagem, reverse=True)\n",
        "    for filho in ordenados:\n",
        "      filho_ordenado = ranquear_topicos(filho)\n",
        "      filho_ordenado.parent = raiz_copia\n",
        "\n",
        "  return raiz_copia"
      ],
      "metadata": {
        "id": "Yf8sjG-Zd4fq"
      },
      "execution_count": null,
      "outputs": []
    },
    {
      "cell_type": "code",
      "source": [
        "def simular_prova(raiz, total_questoes=total_questoes, percentual_alvo=percentual_alvo, topico_removido=None):\n",
        "  raiz_copia = Node(raiz.name, topico=raiz.topico, porcentagem=raiz.porcentagem)\n",
        "\n",
        "  if raiz.children:\n",
        "    acumulado = 0\n",
        "    alvo_relativo = (float(percentual_alvo) / 100) * raiz.porcentagem\n",
        "\n",
        "    for filho in raiz.children:\n",
        "      if acumulado >= alvo_relativo:\n",
        "        break\n",
        "\n",
        "      if topico_removido and topico_removido.lower() in filho.topico.lower():\n",
        "        continue\n",
        "\n",
        "      filho_ordenado = simular_prova(filho, total_questoes=total_questoes, percentual_alvo=percentual_alvo, topico_removido=topico_removido)\n",
        "      filho_ordenado.parent = raiz_copia\n",
        "      acumulado += filho_ordenado.porcentagem\n",
        "\n",
        "  return raiz_copia"
      ],
      "metadata": {
        "id": "R8anbjcXnp6t"
      },
      "execution_count": null,
      "outputs": []
    },
    {
      "cell_type": "code",
      "source": [
        "def recuperar_hierarquia(node):\n",
        "  if node.parent:\n",
        "    return recuperar_hierarquia(node.parent) + '.' + node.name\n",
        "  else:\n",
        "    return node.name"
      ],
      "metadata": {
        "id": "thAS_m6sz9Qi"
      },
      "execution_count": null,
      "outputs": []
    },
    {
      "cell_type": "markdown",
      "source": [
        "## Main"
      ],
      "metadata": {
        "id": "TQ5Yb17agzaf"
      }
    },
    {
      "cell_type": "code",
      "source": [
        "df = carregar_dados(f\"/content/drive/MyDrive/PROJETOS/CONCURSOS/{nome_arquivo}\")\n",
        "df_corrigido = corrige_hierarquia_ausente(df, inicio_sequencia=1)\n",
        "\n",
        "arvore = construir_arvore(df_corrigido, topico_raiz=\"Direito Tributário\")\n",
        "arvore_ranqueada = ranquear_topicos(arvore)\n",
        "arvore_simulada = simular_prova(arvore_ranqueada, total_questoes=total_questoes, percentual_alvo=percentual_alvo, topico_removido=\"Mesclad\")\n",
        "\n",
        "# Mostrando a árvore\n",
        "for pre, fill, node in RenderTree(arvore_simulada):\n",
        "  porcentagem_relativa = round(node.porcentagem / node.parent.porcentagem * 100, 2) if node.parent else ''\n",
        "  texto_porcentagem = str(node.porcentagem) + '%' + (' / ' + str(porcentagem_relativa) + '%' if porcentagem_relativa else '')\n",
        "  print(f\"{pre}{node.name} - {node.topico} ({texto_porcentagem})\")\n",
        "\n",
        "print(f\"Total de Tópicos: {len(arvore_simulada.descendants) + 1}\")"
      ],
      "metadata": {
        "colab": {
          "base_uri": "https://localhost:8080/"
        },
        "id": "_48a2JbFg5AB",
        "outputId": "6a9b9408-1318-43b0-cfd1-2d63737c8172"
      },
      "execution_count": null,
      "outputs": [
        {
          "output_type": "stream",
          "name": "stdout",
          "text": [
            "00 - Direito Tributário (100%)\n",
            "└── 01 - Direito Tributário (84.02% / 84.02%)\n",
            "    ├── 07 - Crédito Tributário (arts. 139 a 193 do CTN) (15.98% / 19.02%)\n",
            "    │   ├── 04 - Extinção do Crédito Tributário (arts. 156 a 174 do CTN) (4.61% / 28.85%)\n",
            "    │   ├── 02 - Lançamento e Constituição do Crédito Tributário (arts. 142 a 150 do CTN) (3.94% / 24.66%)\n",
            "    │   ├── 03 - Suspensão da Exigibilidade do Crédito Tributário (arts. 151 a 155-A do CTN) (2.22% / 13.89%)\n",
            "    │   ├── 05 - Exclusão do Crédito Tributário (arts. 175 a 182 do CTN) (1.89% / 11.83%)\n",
            "    │   └── 07 - Garantias e Privilégios do Crédito Tributário (arts. 183 a 193 do CTN) (1.05% / 6.57%)\n",
            "    ├── 06 - Obrigação Tributária (arts. 113 a 138 do CTN) (15.21% / 18.1%)\n",
            "    │   ├── 07 - Responsabilidade Tributária (arts. 128 a 138 do CTN) (4.5% / 29.59%)\n",
            "    │   ├── 01 - Disposições Gerais sobre Obrigação Tributária (Conceito, Obrigação Principal e Acessória) (3.33% / 21.89%)\n",
            "    │   ├── 02 - Fato Gerador (arts. 114 a 118 do CTN) (2.0% / 13.15%)\n",
            "    │   ├── 03 - Sujeito: Ativo e Passivo (arts. 119 a 123 do CTN) (1.66% / 10.91%)\n",
            "    │   └── 06 - Domicílio Tributário (art. 127 do CTN) (1.44% / 9.47%)\n",
            "    ├── 08 - Impostos Federais, Estaduais e Municipais (11.88% / 14.14%)\n",
            "    │   ├── 03 - Impostos Municipais (5.88% / 49.49%)\n",
            "    │   │   ├── 02 - Imposto Predial e Territorial Urbano - IPTU (CF/1988 e CTN) (3.0% / 51.02%)\n",
            "    │   │   ├── 01 - Imposto sobre Serviços - ISS (CF/1988 e CTN) (1.5% / 25.51%)\n",
            "    │   │   └── 03 - Imposto sobre Transmissão de Bens Imóveis - ITBI (CF/1988 e CTN) (1.39% / 23.64%)\n",
            "    │   ├── 01 - Impostos Federais (3.16% / 26.6%)\n",
            "    │   │   ├── 07 - Imposto sobre Propriedade Territorial Rural - ITR (0.83% / 26.27%)\n",
            "    │   │   ├── 02 - Imposto sobre Produtos Industrializados - IPI (CF/1988 e CTN) (0.61% / 19.3%)\n",
            "    │   │   ├── 01 - Imposto de Renda - IR (CF/1988 e CTN) (0.39% / 12.34%)\n",
            "    │   │   ├── 03 - Imposto sobre Operações Financeiras - IOF (0.39% / 12.34%)\n",
            "    │   │   ├── 06 - Imposto de Importação - II (0.22% / 6.96%)\n",
            "    │   │   └── 04 - Imposto sobre Grandes Fortunas - IGF (0.11% / 3.48%)\n",
            "    │   └── 02 - Impostos Estaduais (2.83% / 23.82%)\n",
            "    │       ├── 01 - Imposto sobre Circulação de Mercadorias e Serviços - ICMS (CF/1988 e CTN) (1.28% / 45.23%)\n",
            "    │       └── 03 - Imposto de Transmissão Causa Mortis e Doação - ITCMD (CF/1988 e CTN) (1.05% / 37.1%)\n",
            "    ├── 03 - Limitações Constitucionais ao Poder de Tributar (arts. 150 a 152 da CF) (10.38% / 12.35%)\n",
            "    │   ├── 01 - Princípios Tributários (8.05% / 77.55%)\n",
            "    │   └── 02 - Imunidades Tributárias (2.33% / 22.45%)\n",
            "    ├── 02 - Espécies de Tributos (10.21% / 12.15%)\n",
            "    │   ├── 02 - Taxas (CF/1988 e CTN) (2.22% / 21.74%)\n",
            "    │   ├── 03 - Contribuições de Melhoria (CF/1988 e CTN) (1.55% / 15.18%)\n",
            "    │   ├── 04 - Empréstimo Compulsório (CF/1988 e CTN) (1.5% / 14.69%)\n",
            "    │   ├── 05 - Contribuições Especiais (CF/1988) (1.39% / 13.61%)\n",
            "    │   └── 01 - Impostos (Conceito e Classificações) (1.17% / 11.46%)\n",
            "    └── 04 - Competência Tributária (CF/1988 e CTN) (7.05% / 8.39%)\n",
            "        ├── 02 - Competência Tributária: Conceitos e Características (3.5% / 49.65%)\n",
            "        └── 03 - Repartição da Competência Tributária (Privativa, Comum, Cumulativa, Residual, Extraordinária e Compartilhada) (3.05% / 43.26%)\n",
            "Total de Tópicos: 41\n"
          ]
        },
        {
          "output_type": "stream",
          "name": "stderr",
          "text": [
            "<ipython-input-5-b4f3962d7648>:9: SettingWithCopyWarning: \n",
            "A value is trying to be set on a copy of a slice from a DataFrame.\n",
            "Try using .loc[row_indexer,col_indexer] = value instead\n",
            "\n",
            "See the caveats in the documentation: https://pandas.pydata.org/pandas-docs/stable/user_guide/indexing.html#returning-a-view-versus-a-copy\n",
            "  df_linhas_nova_hierarquia[\"Hierarquia\"] = [str(hierarquia).zfill(2) for hierarquia in sequencia_hierarquias_faltantes]\n"
          ]
        }
      ]
    },
    {
      "cell_type": "code",
      "source": [
        "drive.mount('/content/drive')\n",
        "DIRETORIO_NOTEBOOK = \"/content/drive/MyDrive/PROJETOS/CONCURSOS/\"\n",
        "\n",
        "# Salvar árvore em arquivo .txt\n",
        "with open(f\"{DIRETORIO_NOTEBOOK}/arvore - {arvore_simulada.topico.lower()}.txt\", 'w') as f:\n",
        "    for pre, _, node in RenderTree(arvore_simulada):\n",
        "        f.write(f\"{pre}{node.name} - {node.topico} ({node.porcentagem}%)\\n\")"
      ],
      "metadata": {
        "id": "YdEkCHDYriID",
        "colab": {
          "base_uri": "https://localhost:8080/"
        },
        "outputId": "644eb230-6ca5-4c3e-a469-b09bee493bca"
      },
      "execution_count": null,
      "outputs": [
        {
          "output_type": "stream",
          "name": "stdout",
          "text": [
            "Drive already mounted at /content/drive; to attempt to forcibly remount, call drive.mount(\"/content/drive\", force_remount=True).\n"
          ]
        }
      ]
    }
  ]
}