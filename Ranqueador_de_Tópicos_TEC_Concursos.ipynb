{
  "cells": [
    {
      "cell_type": "markdown",
      "metadata": {
        "id": "view-in-github",
        "colab_type": "text"
      },
      "source": [
        "<a href=\"https://colab.research.google.com/github/fppfurtado/ranqueador-cadernos-tec/blob/main/Ranqueador_de_T%C3%B3picos_TEC_Concursos.ipynb\" target=\"_parent\"><img src=\"https://colab.research.google.com/assets/colab-badge.svg\" alt=\"Open In Colab\"/></a>"
      ]
    },
    {
      "cell_type": "code",
      "execution_count": null,
      "metadata": {
        "cellView": "form",
        "colab": {
          "base_uri": "https://localhost:8080/"
        },
        "id": "uvsJFNZ4dHQS",
        "outputId": "7e245bb9-169e-4c42-ec45-6459a4516273"
      },
      "outputs": [
        {
          "name": "stdout",
          "output_type": "stream",
          "text": [
            "planilha - tecnologia da informacao.xlsx\n",
            "20\n",
            "80\n"
          ]
        }
      ],
      "source": [
        "# @title Entrada de Dados\n",
        "nome_arquivo = \"planilha - tecnologia da informacao.xlsx\"  # @param {type: \"string\"}\n",
        "total_questoes = \"20\"  # @param {type: \"string\"}\n",
        "percentual_alvo = \"80\"  # @param {type: \"string\", placeholder: \"entre com o número percental (ex.: 70, 80, etc)\"}\n",
        "\n",
        "print(nome_arquivo)\n",
        "print(total_questoes)\n",
        "print(percentual_alvo)"
      ]
    },
    {
      "cell_type": "markdown",
      "metadata": {
        "id": "jtmO8dyFtv7f"
      },
      "source": [
        "# Ranqueador"
      ]
    },
    {
      "cell_type": "markdown",
      "metadata": {
        "id": "UjPkBpAGf90_"
      },
      "source": [
        "## Imports"
      ]
    },
    {
      "cell_type": "code",
      "execution_count": null,
      "metadata": {
        "colab": {
          "base_uri": "https://localhost:8080/"
        },
        "id": "HlByM_JSgbN_",
        "outputId": "ef595081-8070-473f-f4be-6d7393b4b9e4"
      },
      "outputs": [
        {
          "name": "stdout",
          "output_type": "stream",
          "text": [
            "Collecting anytree\n",
            "  Downloading anytree-2.13.0-py3-none-any.whl.metadata (8.0 kB)\n",
            "Downloading anytree-2.13.0-py3-none-any.whl (45 kB)\n",
            "\u001b[2K   \u001b[90m━━━━━━━━━━━━━━━━━━━━━━━━━━━━━━━━━━━━━━━━\u001b[0m \u001b[32m45.1/45.1 kB\u001b[0m \u001b[31m1.6 MB/s\u001b[0m eta \u001b[36m0:00:00\u001b[0m\n",
            "\u001b[?25hInstalling collected packages: anytree\n",
            "Successfully installed anytree-2.13.0\n"
          ]
        }
      ],
      "source": [
        "!pip install anytree"
      ]
    },
    {
      "cell_type": "code",
      "execution_count": null,
      "metadata": {
        "id": "xTFykm-8dllN"
      },
      "outputs": [],
      "source": [
        "import pandas as pd\n",
        "from anytree import Node, RenderTree\n",
        "from copy import deepcopy\n",
        "from google.colab import drive"
      ]
    },
    {
      "cell_type": "markdown",
      "metadata": {
        "id": "lghidvlAgfSf"
      },
      "source": [
        "## Funções"
      ]
    },
    {
      "cell_type": "code",
      "execution_count": null,
      "metadata": {
        "id": "JepCmcYzhQaA"
      },
      "outputs": [],
      "source": [
        "def carregar_dados(planilha):\n",
        "    \"\"\"Carrega os dados da planilha e filtra linhas válidas\"\"\"\n",
        "    df = pd.read_excel(planilha)\n",
        "    df = df[df['Hierarquia'].notna() | df['Índice'].notna()]  # Remove linhas vazias\n",
        "    return df"
      ]
    },
    {
      "cell_type": "code",
      "execution_count": 40,
      "metadata": {
        "id": "MRPqipNbgehS"
      },
      "outputs": [],
      "source": [
        "def corrige_hierarquia_ausente(df, inicio_sequencia):\n",
        "    df_corrigido = df.copy()\n",
        "\n",
        "    filtro_linhas_sem_hierarquia = df['Hierarquia'].isna() & df['Índice'].notna()\n",
        "    df_linhas_sem_hierarquia = df[filtro_linhas_sem_hierarquia]\n",
        "    df_linhas_nova_hierarquia = df_linhas_sem_hierarquia\n",
        "\n",
        "    sequencia_hierarquias_faltantes = list(range(inicio_sequencia, inicio_sequencia + len(df_linhas_sem_hierarquia)))\n",
        "    df_linhas_nova_hierarquia[\"Hierarquia\"] = [str(hierarquia).zfill(2) for hierarquia in sequencia_hierarquias_faltantes]\n",
        "    indices_linhas_hierarquia_inserida = df_linhas_nova_hierarquia.index.tolist()\n",
        "\n",
        "    df_corrigido[\"Hierarquia\"] = df_corrigido[\"Hierarquia\"].apply(lambda x: x if not pd.isna(x) else \"\")\n",
        "\n",
        "    for i in range(len(indices_linhas_hierarquia_inserida)):\n",
        "      for i_row, row in df_corrigido.iterrows():\n",
        "        if indices_linhas_hierarquia_inserida[i] != indices_linhas_hierarquia_inserida[-1]:\n",
        "          if indices_linhas_hierarquia_inserida[i] <= i_row < indices_linhas_hierarquia_inserida[i+1]:\n",
        "            if row[\"Hierarquia\"]:\n",
        "                df_corrigido.loc[i_row, \"Hierarquia\"] = df_linhas_nova_hierarquia.loc[indices_linhas_hierarquia_inserida[i], \"Hierarquia\"] + \".\" + str(row[\"Hierarquia\"])\n",
        "            else:\n",
        "                df_corrigido.loc[i_row, \"Hierarquia\"] = df_linhas_nova_hierarquia.loc[indices_linhas_hierarquia_inserida[i], \"Hierarquia\"]\n",
        "          else:\n",
        "            continue\n",
        "        else:\n",
        "          if i_row >= indices_linhas_hierarquia_inserida[i]:\n",
        "              if row[\"Hierarquia\"]:\n",
        "                  df_corrigido.loc[i_row, \"Hierarquia\"] = df_linhas_nova_hierarquia.loc[indices_linhas_hierarquia_inserida[i], \"Hierarquia\"] + \".\" + str(row[\"Hierarquia\"])\n",
        "              else:\n",
        "                  df_corrigido.loc[i_row, \"Hierarquia\"] = df_linhas_nova_hierarquia.loc[indices_linhas_hierarquia_inserida[i], \"Hierarquia\"]\n",
        "\n",
        "    return df_corrigido"
      ]
    },
    {
      "cell_type": "code",
      "execution_count": null,
      "metadata": {
        "id": "9yBIYSUHNEYC"
      },
      "outputs": [],
      "source": [
        "def inserir_caminho(raiz, caminho):\n",
        "    \"\"\"\n",
        "    Insere uma sequência de nós em uma árvore a partir do nó raiz.\n",
        "    Cria apenas os nós que ainda não existem no caminho.\n",
        "\n",
        "    :param raiz: Nó raiz da árvore (objeto Node)\n",
        "    :param caminho: Lista com os nomes dos nós no caminho\n",
        "    :return: O último nó do caminho\n",
        "    \"\"\"\n",
        "    no_atual = raiz\n",
        "\n",
        "    for nome in caminho:\n",
        "        # Verifica se o nó já existe entre os filhos\n",
        "        filhos = {filho.name: filho for filho in no_atual.children}\n",
        "        if nome in filhos:\n",
        "            no_atual = filhos[nome]\n",
        "        else:\n",
        "            novo_no = Node(nome, parent=no_atual)\n",
        "            no_atual = novo_no  # Atualiza para o novo nó\n",
        "\n",
        "    return no_atual"
      ]
    },
    {
      "cell_type": "code",
      "execution_count": null,
      "metadata": {
        "id": "0RsKQJgSvpA_"
      },
      "outputs": [],
      "source": [
        "def construir_arvore(df, valor_raiz=\"00\", topico_raiz=None, perc_raiz=100):\n",
        "    \"\"\"Constrói a árvore hierárquica a partir do DataFrame\"\"\"\n",
        "    raiz = Node(valor_raiz, topico=topico_raiz, porcentagem=perc_raiz)\n",
        "\n",
        "    df_arvore = df.copy()\n",
        "    df_arvore[\"Nível\"] = df[\"Hierarquia\"].apply(lambda x: len(str(x).split(\".\"))+1  if not pd.isna(x) else 1)\n",
        "    df_arvore[\"Caminho\"] = df[\"Hierarquia\"].apply(lambda x: str(x).split(\".\"))\n",
        "\n",
        "    for _, row in df_arvore.iterrows():\n",
        "      node = inserir_caminho(raiz, row[\"Caminho\"])\n",
        "      node.topico = row[\"Índice\"]\n",
        "      node.porcentagem = float(row[\"Porcentagem\"].rstrip(\"%\"))\n",
        "\n",
        "    return raiz"
      ]
    },
    {
      "cell_type": "code",
      "execution_count": null,
      "metadata": {
        "id": "Yf8sjG-Zd4fq"
      },
      "outputs": [],
      "source": [
        "def ranquear_topicos(raiz):\n",
        "  raiz_copia = Node(raiz.name, topico=raiz.topico, porcentagem=raiz.porcentagem)\n",
        "\n",
        "  if raiz.children:\n",
        "    ordenados = sorted(raiz.children, key=lambda x: x.porcentagem, reverse=True)\n",
        "    for filho in ordenados:\n",
        "      filho_ordenado = ranquear_topicos(filho)\n",
        "      filho_ordenado.parent = raiz_copia\n",
        "\n",
        "  return raiz_copia"
      ]
    },
    {
      "cell_type": "code",
      "execution_count": null,
      "metadata": {
        "id": "R8anbjcXnp6t"
      },
      "outputs": [],
      "source": [
        "def simular_prova(raiz, total_questoes=total_questoes, percentual_alvo=percentual_alvo, topico_removido=None):\n",
        "  raiz_copia = Node(raiz.topico, porcentagem=raiz.porcentagem)\n",
        "\n",
        "  if raiz.children:\n",
        "    contador_hierarquia = 1\n",
        "    acumulado = 0\n",
        "    alvo_relativo = (float(percentual_alvo) / 100) * raiz.porcentagem\n",
        "\n",
        "    for filho in raiz.children:\n",
        "      if acumulado >= alvo_relativo:\n",
        "        break\n",
        "\n",
        "      if topico_removido and topico_removido.lower() in filho.topico.lower():\n",
        "        continue\n",
        "\n",
        "      filho_ordenado = simular_prova(filho, total_questoes=total_questoes, percentual_alvo=percentual_alvo, topico_removido=topico_removido)\n",
        "      filho_ordenado.parent = raiz_copia\n",
        "      filho_ordenado.hierarquia = contador_hierarquia\n",
        "      contador_hierarquia += 1\n",
        "      acumulado += filho_ordenado.porcentagem\n",
        "\n",
        "  return raiz_copia"
      ]
    },
    {
      "cell_type": "code",
      "execution_count": null,
      "metadata": {
        "id": "thAS_m6sz9Qi"
      },
      "outputs": [],
      "source": [
        "def recuperar_hierarquia(node):\n",
        "  if node.parent:\n",
        "    hieraraquia_pai = recuperar_hierarquia(node.parent)\n",
        "    return (hieraraquia_pai + '.' if hieraraquia_pai else '') + str(node.hierarquia)\n",
        "  else:\n",
        "    hierarquia = str(node.hierarquia) if hasattr(node, 'hierarquia') else ''\n",
        "    return hierarquia"
      ]
    },
    {
      "cell_type": "markdown",
      "metadata": {
        "id": "TQ5Yb17agzaf"
      },
      "source": [
        "## Main"
      ]
    },
    {
      "cell_type": "code",
      "execution_count": 41,
      "metadata": {
        "colab": {
          "base_uri": "https://localhost:8080/"
        },
        "id": "_48a2JbFg5AB",
        "outputId": "992d005e-0582-4de6-ecdf-9a7390154b7b"
      },
      "outputs": [
        {
          "output_type": "stream",
          "name": "stdout",
          "text": [
            "TECNOLOGIA DA INFORMAÇÃO (100%)\n",
            "1. TI - Banco de Dados (47.46% / 47.46%)\n",
            "1.1. Bancos de Dados Dimensionais (19.31% / 40.69%)\n",
            "1.1.1. Conceitos de Modelagem Dimensional e Business Intelligence (5.39% / 27.91%)\n",
            "1.1.2. Data Warehouse e Data Mart (5.09% / 26.36%)\n",
            "1.1.3. Big Data e Data Lake (4.34% / 22.48%)\n",
            "1.1.4. Mineração de Dados (Data Mining) (3.59% / 18.59%)\n",
            "1.2. Sistema de Gerenciamento de Banco de Dados (SGBD) (14.82% / 31.23%)\n",
            "1.2.1. Versões de SGBDs (7.63% / 51.48%)\n",
            "1.2.1.1. Oracle (4.49% / 58.85%)\n",
            "1.2.1.2. SQL Server (1.5% / 19.66%)\n",
            "1.2.1.3. MySQL (0.75% / 9.83%)\n",
            "1.2.2. Definições e Propriedades do SGBD (3.74% / 25.24%)\n",
            "1.2.3. Transações (Locks, ACID, etc.) (2.54% / 17.14%)\n",
            "1.3. Projeto e Modelagem de Dados (12.72% / 26.8%)\n",
            "1.3.1. Modelo Relacional (5.69% / 44.73%)\n",
            "1.3.1.1. Conceitos e Fundamentos de Modelo Relacional (5.69% / 100.0%)\n",
            "1.3.2. Modelo Entidade-Relacionamento (MER) (4.64% / 36.48%)\n",
            "2. Informática (18.71% / 18.71%)\n",
            "2.1. Segurança da Informação (10.33% / 55.21%)\n",
            "2.1.1. Criptografia, Assinatura e Certificado Digital (6.74% / 65.25%)\n",
            "2.1.2. Conceitos e Princípios de Segurança da Informação (3.59% / 34.75%)\n",
            "2.2. Internet (8.38% / 44.79%)\n",
            "2.2.1. Serviços (internet) (4.34% / 51.79%)\n",
            "2.2.1.1. Computação em Nuvem (Cloud Computing) (3.74% / 86.18%)\n",
            "2.2.2. Intranet e Extranet (4.04% / 48.21%)\n",
            "3. Gestão de Projetos (PMBOK) (15.57% / 15.57%)\n",
            "3.1. PMBOK 6ª Edição (Áreas do Conhecimento e Grupos de Processo) (8.98% / 57.68%)\n",
            "3.1.1. Áreas de Conhecimento (PMBOK) (7.93% / 88.31%)\n",
            "3.1.1.1. Gerenciamento dos Riscos do Projeto (1.5% / 18.92%)\n",
            "3.1.1.2. Gerenciamento do Custo do Projeto (1.35% / 17.02%)\n",
            "3.1.1.3. Gerenciamento da Integração do Projeto (1.05% / 13.24%)\n",
            "3.1.1.4. Gerenciamento do Escopo do Projeto (0.9% / 11.35%)\n",
            "3.1.1.5. Gerenciamento da Qualidade do Projeto (0.9% / 11.35%)\n",
            "3.1.1.6. Gerenciamento do Cronograma (Tempo) do Projeto (0.45% / 5.67%)\n",
            "3.1.1.7. Gerenciamento das Aquisições do Projeto (0.45% / 5.67%)\n",
            "3.2. Noções Introdutórias de Administração ou Gestão de Projetos (3.44% / 22.09%)\n",
            "3.3. Ciclo de Vida de Projetos (1.35% / 8.67%)\n",
            "Total de Tópicos: 38\n"
          ]
        },
        {
          "output_type": "stream",
          "name": "stderr",
          "text": [
            "<ipython-input-40-b98e0d5980fb>:9: SettingWithCopyWarning: \n",
            "A value is trying to be set on a copy of a slice from a DataFrame.\n",
            "Try using .loc[row_indexer,col_indexer] = value instead\n",
            "\n",
            "See the caveats in the documentation: https://pandas.pydata.org/pandas-docs/stable/user_guide/indexing.html#returning-a-view-versus-a-copy\n",
            "  df_linhas_nova_hierarquia[\"Hierarquia\"] = [str(hierarquia).zfill(2) for hierarquia in sequencia_hierarquias_faltantes]\n"
          ]
        }
      ],
      "source": [
        "df = carregar_dados(f\"/content/drive/MyDrive/PROJETOS/CONCURSOS/{nome_arquivo}\")\n",
        "df_corrigido = corrige_hierarquia_ausente(df, inicio_sequencia=1)\n",
        "\n",
        "arvore = construir_arvore(df_corrigido, topico_raiz=\"TECNOLOGIA DA INFORMAÇÃO\")\n",
        "arvore_ranqueada = ranquear_topicos(arvore)\n",
        "arvore_simulada = simular_prova(arvore_ranqueada, total_questoes=total_questoes, percentual_alvo=percentual_alvo, topico_removido=\"Mesclad\")\n",
        "\n",
        "# Mostrando a árvore\n",
        "for pre, fill, node in RenderTree(arvore_simulada):\n",
        "  porcentagem_relativa = round(node.porcentagem / node.parent.porcentagem * 100, 2) if node.parent else ''\n",
        "  texto_porcentagem = str(node.porcentagem) + '%' + (' / ' + str(porcentagem_relativa) + '%' if porcentagem_relativa else '')\n",
        "  print(f\"{recuperar_hierarquia(node) + '. ' if recuperar_hierarquia(node) else ''}{node.name} ({texto_porcentagem})\")\n",
        "\n",
        "print(f\"Total de Tópicos: {len(arvore_simulada.descendants) + 1}\")"
      ]
    },
    {
      "cell_type": "code",
      "execution_count": 42,
      "metadata": {
        "colab": {
          "base_uri": "https://localhost:8080/"
        },
        "id": "YdEkCHDYriID",
        "outputId": "60fc8839-b19a-49c0-b44f-7fdd83927f53"
      },
      "outputs": [
        {
          "output_type": "stream",
          "name": "stdout",
          "text": [
            "Drive already mounted at /content/drive; to attempt to forcibly remount, call drive.mount(\"/content/drive\", force_remount=True).\n"
          ]
        }
      ],
      "source": [
        "drive.mount('/content/drive')\n",
        "DIRETORIO_NOTEBOOK = \"/content/drive/MyDrive/PROJETOS/CONCURSOS/\"\n",
        "\n",
        "# Salvar árvore em arquivo .txt\n",
        "with open(f\"{DIRETORIO_NOTEBOOK}/arvore - {arvore_simulada.name.lower()}.txt\", 'w') as f:\n",
        "    for pre, _, node in RenderTree(arvore_simulada):\n",
        "      porcentagem_relativa = round(node.porcentagem / node.parent.porcentagem * 100, 2) if node.parent else ''\n",
        "      texto_porcentagem = str(node.porcentagem) + '%' + (' / ' + str(porcentagem_relativa) + '%' if porcentagem_relativa else '')\n",
        "      f.write(f\"{recuperar_hierarquia(node) + '. ' if recuperar_hierarquia(node) else ''}{node.name} ({texto_porcentagem})\\n\")"
      ]
    }
  ],
  "metadata": {
    "colab": {
      "collapsed_sections": [
        "UjPkBpAGf90_"
      ],
      "provenance": [],
      "mount_file_id": "1scjNCU3a_QDq3la8J5ck6yEMMfAnmRGN",
      "authorship_tag": "ABX9TyMQOboWOlrfa1Sv1wzCIYdN",
      "include_colab_link": true
    },
    "kernelspec": {
      "display_name": "Python 3",
      "name": "python3"
    },
    "language_info": {
      "name": "python"
    }
  },
  "nbformat": 4,
  "nbformat_minor": 0
}